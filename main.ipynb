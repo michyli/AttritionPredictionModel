{
 "cells": [
  {
   "cell_type": "markdown",
   "metadata": {},
   "source": [
    "# Employee Attrition Prediction Model\n",
    "\n",
    "The model uses Employee Attrition dataset from Kaggle's and compares the effectiveness between using Logistic Regression, Neural Network, and Random Forest. We start by analyzing the dataset, keeping the significant ones and removing the uncorrelated ones to optimize performance from our models. Then we proceed to parsing, splitting, and normalizing before training our models. Below are explanations to our work and our code."
   ]
  },
  {
   "cell_type": "code",
   "execution_count": 33,
   "metadata": {},
   "outputs": [],
   "source": [
    "import pandas as pd"
   ]
  },
  {
   "cell_type": "markdown",
   "metadata": {},
   "source": [
    "## Data Parsing\n",
    "\n",
    "We start with all the data given from the dataset. The raw dataset has 1470 rows and 35 features including Attrition, which is our desired output feature. In terms of data types, there are 26 numerical features and 9 categorical features, ranging from 2 to 6 categories each.\n",
    "\n",
    "The Parse function below takes in a .CSV file, and does the following things:\n",
    "1. drop the constant features (columns_to_drop_1)\n",
    "2. drop the redundant features (columns_to_drop_2)\n",
    "3. split into input and output features\n",
    "4. One-hot encode the categorical columns\n",
    "5. Map the 'Attrition' feature into boolean values"
   ]
  },
  {
   "cell_type": "code",
   "execution_count": 34,
   "metadata": {},
   "outputs": [],
   "source": [
    "def parse_csv(file_path):\n",
    "    \"\"\"\n",
    "    Parses the CSV file, normalizes numerical data, and one-hot encodes categorical variables.\n",
    "\n",
    "    Parameters:\n",
    "    - file_path: str, path to the CSV file.\n",
    "\n",
    "    Returns:\n",
    "    - X_processed: pandas DataFrame, processed feature data.\n",
    "    - y_encoded: pandas Series, encoded target variable.\n",
    "    \"\"\"\n",
    "    # Read the CSV file into a DataFrame\n",
    "    df = pd.read_csv(file_path)\n",
    "    \n",
    "    # Dropping constant and redundant features\n",
    "    columns_to_drop_1 = ['EmployeeCount', 'Over18', 'StandardHours', 'EmployeeNumber']\n",
    "    columns_to_drop_2 = ['MonthlyIncome', 'TotalWorkingYears', 'YearsInCurrentRole', 'YearsWithCurrManager']\n",
    "    df = df.drop(columns=columns_to_drop_1)\n",
    "    df = df.drop(columns=columns_to_drop_2)\n",
    "\n",
    "    # Separate features and target variable\n",
    "    X = df.drop('Attrition', axis=1)\n",
    "    y = df['Attrition']\n",
    "\n",
    "    # Identify categorical and numerical columns\n",
    "    categorical_cols = X.select_dtypes(include=['object']).columns.tolist()\n",
    "    numerical_cols = X.select_dtypes(include=['int64', 'float64']).columns.tolist()\n",
    "\n",
    "    # One-hot encode categorical variables\n",
    "    X_encoded = pd.get_dummies(X, columns=categorical_cols, drop_first=True)\n",
    "\n",
    "    # Doesn't normalize. Leave normalization until after splitting training, validation, and test sets.\n",
    "    \n",
    "    # Encode the target variable\n",
    "    y_encoded = y.map({'Yes': 1, 'No': 0})\n",
    "\n",
    "    return X_encoded, y_encoded"
   ]
  },
  {
   "cell_type": "markdown",
   "metadata": {},
   "source": [
    "Note that the data isn't normalized when parsing. We leave normalization of data to after we split the data into training, validation, and testing sets. This ensures that there are no data leakages, and provides a better evaluation of our models' performance."
   ]
  },
  {
   "cell_type": "markdown",
   "metadata": {},
   "source": [
    "## Simple logistic regression\n",
    "\n",
    "**Prelminaries**\n",
    "\n",
    "1. Load the data\n",
    "2. OHE & Extract test data\n",
    "3. Normalize the training data\n",
    "\n",
    "**Simple logistic regression**\n",
    "\n",
    "4. Train simple logistic regression\n",
    "5. Evaluate the models with cross-validation\n",
    "\n",
    "**Regularization**\n",
    "\n",
    "6. LASSO regularized logistic regression\n",
    "7. Choose the best model\n",
    "8. Evaluate the final model with test data\n",
    "\n",
    "**Conclusion**\n",
    "\n",
    "9. Compare and Contrast resulting accuracies\n"
   ]
  },
  {
   "cell_type": "markdown",
   "metadata": {},
   "source": []
  },
  {
   "cell_type": "markdown",
   "metadata": {},
   "source": [
    "### 1. Load and Inspect the data\n",
    "\n",
    "We can see that all of the data is in numerical form or boolean object which we will one hot encode later."
   ]
  },
  {
   "cell_type": "markdown",
   "metadata": {},
   "source": []
  },
  {
   "cell_type": "code",
   "execution_count": 35,
   "metadata": {},
   "outputs": [
    {
     "name": "stdout",
     "output_type": "stream",
     "text": [
      "<class 'pandas.core.frame.DataFrame'>\n",
      "RangeIndex: 1470 entries, 0 to 1469\n",
      "Data columns (total 35 columns):\n",
      " #   Column                    Non-Null Count  Dtype \n",
      "---  ------                    --------------  ----- \n",
      " 0   Age                       1470 non-null   int64 \n",
      " 1   Attrition                 1470 non-null   object\n",
      " 2   BusinessTravel            1470 non-null   object\n",
      " 3   DailyRate                 1470 non-null   int64 \n",
      " 4   Department                1470 non-null   object\n",
      " 5   DistanceFromHome          1470 non-null   int64 \n",
      " 6   Education                 1470 non-null   int64 \n",
      " 7   EducationField            1470 non-null   object\n",
      " 8   EmployeeCount             1470 non-null   int64 \n",
      " 9   EmployeeNumber            1470 non-null   int64 \n",
      " 10  EnvironmentSatisfaction   1470 non-null   int64 \n",
      " 11  Gender                    1470 non-null   object\n",
      " 12  HourlyRate                1470 non-null   int64 \n",
      " 13  JobInvolvement            1470 non-null   int64 \n",
      " 14  JobLevel                  1470 non-null   int64 \n",
      " 15  JobRole                   1470 non-null   object\n",
      " 16  JobSatisfaction           1470 non-null   int64 \n",
      " 17  MaritalStatus             1470 non-null   object\n",
      " 18  MonthlyIncome             1470 non-null   int64 \n",
      " 19  MonthlyRate               1470 non-null   int64 \n",
      " 20  NumCompaniesWorked        1470 non-null   int64 \n",
      " 21  Over18                    1470 non-null   object\n",
      " 22  OverTime                  1470 non-null   object\n",
      " 23  PercentSalaryHike         1470 non-null   int64 \n",
      " 24  PerformanceRating         1470 non-null   int64 \n",
      " 25  RelationshipSatisfaction  1470 non-null   int64 \n",
      " 26  StandardHours             1470 non-null   int64 \n",
      " 27  StockOptionLevel          1470 non-null   int64 \n",
      " 28  TotalWorkingYears         1470 non-null   int64 \n",
      " 29  TrainingTimesLastYear     1470 non-null   int64 \n",
      " 30  WorkLifeBalance           1470 non-null   int64 \n",
      " 31  YearsAtCompany            1470 non-null   int64 \n",
      " 32  YearsInCurrentRole        1470 non-null   int64 \n",
      " 33  YearsSinceLastPromotion   1470 non-null   int64 \n",
      " 34  YearsWithCurrManager      1470 non-null   int64 \n",
      "dtypes: int64(26), object(9)\n",
      "memory usage: 402.1+ KB\n"
     ]
    },
    {
     "data": {
      "text/html": [
       "<div>\n",
       "<style scoped>\n",
       "    .dataframe tbody tr th:only-of-type {\n",
       "        vertical-align: middle;\n",
       "    }\n",
       "\n",
       "    .dataframe tbody tr th {\n",
       "        vertical-align: top;\n",
       "    }\n",
       "\n",
       "    .dataframe thead th {\n",
       "        text-align: right;\n",
       "    }\n",
       "</style>\n",
       "<table border=\"1\" class=\"dataframe\">\n",
       "  <thead>\n",
       "    <tr style=\"text-align: right;\">\n",
       "      <th></th>\n",
       "      <th>Age</th>\n",
       "      <th>Attrition</th>\n",
       "      <th>BusinessTravel</th>\n",
       "      <th>DailyRate</th>\n",
       "      <th>Department</th>\n",
       "      <th>DistanceFromHome</th>\n",
       "      <th>Education</th>\n",
       "      <th>EducationField</th>\n",
       "      <th>EmployeeCount</th>\n",
       "      <th>EmployeeNumber</th>\n",
       "      <th>...</th>\n",
       "      <th>RelationshipSatisfaction</th>\n",
       "      <th>StandardHours</th>\n",
       "      <th>StockOptionLevel</th>\n",
       "      <th>TotalWorkingYears</th>\n",
       "      <th>TrainingTimesLastYear</th>\n",
       "      <th>WorkLifeBalance</th>\n",
       "      <th>YearsAtCompany</th>\n",
       "      <th>YearsInCurrentRole</th>\n",
       "      <th>YearsSinceLastPromotion</th>\n",
       "      <th>YearsWithCurrManager</th>\n",
       "    </tr>\n",
       "  </thead>\n",
       "  <tbody>\n",
       "    <tr>\n",
       "      <th>0</th>\n",
       "      <td>41</td>\n",
       "      <td>Yes</td>\n",
       "      <td>Travel_Rarely</td>\n",
       "      <td>1102</td>\n",
       "      <td>Sales</td>\n",
       "      <td>1</td>\n",
       "      <td>2</td>\n",
       "      <td>Life Sciences</td>\n",
       "      <td>1</td>\n",
       "      <td>1</td>\n",
       "      <td>...</td>\n",
       "      <td>1</td>\n",
       "      <td>80</td>\n",
       "      <td>0</td>\n",
       "      <td>8</td>\n",
       "      <td>0</td>\n",
       "      <td>1</td>\n",
       "      <td>6</td>\n",
       "      <td>4</td>\n",
       "      <td>0</td>\n",
       "      <td>5</td>\n",
       "    </tr>\n",
       "    <tr>\n",
       "      <th>1</th>\n",
       "      <td>49</td>\n",
       "      <td>No</td>\n",
       "      <td>Travel_Frequently</td>\n",
       "      <td>279</td>\n",
       "      <td>Research &amp; Development</td>\n",
       "      <td>8</td>\n",
       "      <td>1</td>\n",
       "      <td>Life Sciences</td>\n",
       "      <td>1</td>\n",
       "      <td>2</td>\n",
       "      <td>...</td>\n",
       "      <td>4</td>\n",
       "      <td>80</td>\n",
       "      <td>1</td>\n",
       "      <td>10</td>\n",
       "      <td>3</td>\n",
       "      <td>3</td>\n",
       "      <td>10</td>\n",
       "      <td>7</td>\n",
       "      <td>1</td>\n",
       "      <td>7</td>\n",
       "    </tr>\n",
       "    <tr>\n",
       "      <th>2</th>\n",
       "      <td>37</td>\n",
       "      <td>Yes</td>\n",
       "      <td>Travel_Rarely</td>\n",
       "      <td>1373</td>\n",
       "      <td>Research &amp; Development</td>\n",
       "      <td>2</td>\n",
       "      <td>2</td>\n",
       "      <td>Other</td>\n",
       "      <td>1</td>\n",
       "      <td>4</td>\n",
       "      <td>...</td>\n",
       "      <td>2</td>\n",
       "      <td>80</td>\n",
       "      <td>0</td>\n",
       "      <td>7</td>\n",
       "      <td>3</td>\n",
       "      <td>3</td>\n",
       "      <td>0</td>\n",
       "      <td>0</td>\n",
       "      <td>0</td>\n",
       "      <td>0</td>\n",
       "    </tr>\n",
       "    <tr>\n",
       "      <th>3</th>\n",
       "      <td>33</td>\n",
       "      <td>No</td>\n",
       "      <td>Travel_Frequently</td>\n",
       "      <td>1392</td>\n",
       "      <td>Research &amp; Development</td>\n",
       "      <td>3</td>\n",
       "      <td>4</td>\n",
       "      <td>Life Sciences</td>\n",
       "      <td>1</td>\n",
       "      <td>5</td>\n",
       "      <td>...</td>\n",
       "      <td>3</td>\n",
       "      <td>80</td>\n",
       "      <td>0</td>\n",
       "      <td>8</td>\n",
       "      <td>3</td>\n",
       "      <td>3</td>\n",
       "      <td>8</td>\n",
       "      <td>7</td>\n",
       "      <td>3</td>\n",
       "      <td>0</td>\n",
       "    </tr>\n",
       "    <tr>\n",
       "      <th>4</th>\n",
       "      <td>27</td>\n",
       "      <td>No</td>\n",
       "      <td>Travel_Rarely</td>\n",
       "      <td>591</td>\n",
       "      <td>Research &amp; Development</td>\n",
       "      <td>2</td>\n",
       "      <td>1</td>\n",
       "      <td>Medical</td>\n",
       "      <td>1</td>\n",
       "      <td>7</td>\n",
       "      <td>...</td>\n",
       "      <td>4</td>\n",
       "      <td>80</td>\n",
       "      <td>1</td>\n",
       "      <td>6</td>\n",
       "      <td>3</td>\n",
       "      <td>3</td>\n",
       "      <td>2</td>\n",
       "      <td>2</td>\n",
       "      <td>2</td>\n",
       "      <td>2</td>\n",
       "    </tr>\n",
       "  </tbody>\n",
       "</table>\n",
       "<p>5 rows × 35 columns</p>\n",
       "</div>"
      ],
      "text/plain": [
       "   Age Attrition     BusinessTravel  DailyRate              Department  \\\n",
       "0   41       Yes      Travel_Rarely       1102                   Sales   \n",
       "1   49        No  Travel_Frequently        279  Research & Development   \n",
       "2   37       Yes      Travel_Rarely       1373  Research & Development   \n",
       "3   33        No  Travel_Frequently       1392  Research & Development   \n",
       "4   27        No      Travel_Rarely        591  Research & Development   \n",
       "\n",
       "   DistanceFromHome  Education EducationField  EmployeeCount  EmployeeNumber  \\\n",
       "0                 1          2  Life Sciences              1               1   \n",
       "1                 8          1  Life Sciences              1               2   \n",
       "2                 2          2          Other              1               4   \n",
       "3                 3          4  Life Sciences              1               5   \n",
       "4                 2          1        Medical              1               7   \n",
       "\n",
       "   ...  RelationshipSatisfaction StandardHours  StockOptionLevel  \\\n",
       "0  ...                         1            80                 0   \n",
       "1  ...                         4            80                 1   \n",
       "2  ...                         2            80                 0   \n",
       "3  ...                         3            80                 0   \n",
       "4  ...                         4            80                 1   \n",
       "\n",
       "   TotalWorkingYears  TrainingTimesLastYear WorkLifeBalance  YearsAtCompany  \\\n",
       "0                  8                      0               1               6   \n",
       "1                 10                      3               3              10   \n",
       "2                  7                      3               3               0   \n",
       "3                  8                      3               3               8   \n",
       "4                  6                      3               3               2   \n",
       "\n",
       "  YearsInCurrentRole  YearsSinceLastPromotion  YearsWithCurrManager  \n",
       "0                  4                        0                     5  \n",
       "1                  7                        1                     7  \n",
       "2                  0                        0                     0  \n",
       "3                  7                        3                     0  \n",
       "4                  2                        2                     2  \n",
       "\n",
       "[5 rows x 35 columns]"
      ]
     },
     "execution_count": 35,
     "metadata": {},
     "output_type": "execute_result"
    }
   ],
   "source": [
    "import pandas as pd\n",
    "data = pd.read_csv(\"EmployeeAttritionAllData.csv\")\n",
    "data.info()\n",
    "data.head()"
   ]
  },
  {
   "cell_type": "markdown",
   "metadata": {},
   "source": [
    "#### Data Cleaning\n",
    "\n",
    "We want to check if any row of data is missing value or have repeating values for whole column"
   ]
  },
  {
   "cell_type": "code",
   "execution_count": 36,
   "metadata": {},
   "outputs": [
    {
     "data": {
      "text/plain": [
       "(Age                         0\n",
       " Attrition                   0\n",
       " BusinessTravel              0\n",
       " DailyRate                   0\n",
       " Department                  0\n",
       " DistanceFromHome            0\n",
       " Education                   0\n",
       " EducationField              0\n",
       " EmployeeCount               0\n",
       " EmployeeNumber              0\n",
       " EnvironmentSatisfaction     0\n",
       " Gender                      0\n",
       " HourlyRate                  0\n",
       " JobInvolvement              0\n",
       " JobLevel                    0\n",
       " JobRole                     0\n",
       " JobSatisfaction             0\n",
       " MaritalStatus               0\n",
       " MonthlyIncome               0\n",
       " MonthlyRate                 0\n",
       " NumCompaniesWorked          0\n",
       " Over18                      0\n",
       " OverTime                    0\n",
       " PercentSalaryHike           0\n",
       " PerformanceRating           0\n",
       " RelationshipSatisfaction    0\n",
       " StandardHours               0\n",
       " StockOptionLevel            0\n",
       " TotalWorkingYears           0\n",
       " TrainingTimesLastYear       0\n",
       " WorkLifeBalance             0\n",
       " YearsAtCompany              0\n",
       " YearsInCurrentRole          0\n",
       " YearsSinceLastPromotion     0\n",
       " YearsWithCurrManager        0\n",
       " dtype: int64,\n",
       " Age                           43\n",
       " Attrition                      2\n",
       " BusinessTravel                 3\n",
       " DailyRate                    886\n",
       " Department                     3\n",
       " DistanceFromHome              29\n",
       " Education                      5\n",
       " EducationField                 6\n",
       " EmployeeCount                  1\n",
       " EmployeeNumber              1470\n",
       " EnvironmentSatisfaction        4\n",
       " Gender                         2\n",
       " HourlyRate                    71\n",
       " JobInvolvement                 4\n",
       " JobLevel                       5\n",
       " JobRole                        9\n",
       " JobSatisfaction                4\n",
       " MaritalStatus                  3\n",
       " MonthlyIncome               1349\n",
       " MonthlyRate                 1427\n",
       " NumCompaniesWorked            10\n",
       " Over18                         1\n",
       " OverTime                       2\n",
       " PercentSalaryHike             15\n",
       " PerformanceRating              2\n",
       " RelationshipSatisfaction       4\n",
       " StandardHours                  1\n",
       " StockOptionLevel               4\n",
       " TotalWorkingYears             40\n",
       " TrainingTimesLastYear          7\n",
       " WorkLifeBalance                4\n",
       " YearsAtCompany                37\n",
       " YearsInCurrentRole            19\n",
       " YearsSinceLastPromotion       16\n",
       " YearsWithCurrManager          18\n",
       " dtype: int64)"
      ]
     },
     "execution_count": 36,
     "metadata": {},
     "output_type": "execute_result"
    }
   ],
   "source": [
    "# Check for missing data\n",
    "missing_values = data.isnull().sum()\n",
    "\n",
    "# Check for constant data\n",
    "no_unique_values = data.nunique()\n",
    "\n",
    "missing_values, no_unique_values"
   ]
  },
  {
   "cell_type": "markdown",
   "metadata": {},
   "source": [
    "While there is no missing values found, 3 columns ('EmployeeCount', 'Over18', 'StandardHours') were found to have constant values for all 1470 rows. Also, 'EmployeeNumber' is a unique identifier for all 1470 rows. These 4 columns should be dropped because they will not help our model."
   ]
  },
  {
   "cell_type": "code",
   "execution_count": 37,
   "metadata": {},
   "outputs": [],
   "source": [
    "columns_to_drop = ['EmployeeCount', 'Over18', 'StandardHours', 'EmployeeNumber']\n",
    "data = data.drop(columns=columns_to_drop) "
   ]
  },
  {
   "cell_type": "markdown",
   "metadata": {},
   "source": [
    "### 2. OHE & Extract test data\n",
    "\n",
    "One hot encode categorical data into binary numerical data and then split testing and training data. Making sure to train/test split before normalization so there is no data leakage problems."
   ]
  },
  {
   "cell_type": "code",
   "execution_count": 45,
   "metadata": {},
   "outputs": [],
   "source": [
    "from sklearn.model_selection import train_test_split\n",
    "\n",
    "categorical_columns = data.select_dtypes(include=['object']).columns\n",
    "data = pd.get_dummies(data, columns=categorical_columns, drop_first=True) #drop_first avoid redundency\n",
    "\n",
    "X = data.drop(['Attrition_Yes'], axis=1) #Attrition converted to Yes from OHE\n",
    "y = data['Attrition_Yes']\n",
    "X_train, X_test, y_train, y_test = train_test_split(X, y, test_size=0.2, random_state=42)"
   ]
  },
  {
   "cell_type": "markdown",
   "metadata": {},
   "source": []
  },
  {
   "cell_type": "markdown",
   "metadata": {},
   "source": [
    "### 3. Normalize the training data\n",
    "\n",
    "Next we will standardize the data. The algorithm is technically the same with normalized and un-normalized data. However it can have beneficial effects on the convergence of the optimization solver later. Also we normalize using x-train and then use the same parameter to normalize x-test to ensure no data leakage.\n"
   ]
  },
  {
   "cell_type": "code",
   "execution_count": 46,
   "metadata": {},
   "outputs": [],
   "source": [
    "from sklearn.discriminant_analysis import StandardScaler\n",
    "\n",
    "scaler = StandardScaler()\n",
    "numerical_columns = X_train.select_dtypes(include=['int64']).columns            ### Only normalize numerical values\n",
    "no_norm_X_train = X_train\n",
    "no_norm_x_test = X_test\n",
    "X_train[numerical_columns] = scaler.fit_transform(X_train[numerical_columns]) \n",
    "X_test[numerical_columns] = scaler.transform(X_test[numerical_columns])"
   ]
  },
  {
   "cell_type": "markdown",
   "metadata": {},
   "source": []
  },
  {
   "cell_type": "markdown",
   "metadata": {},
   "source": [
    "### 4. Train simple logistic regression\n",
    "\n",
    "Next we train the simple logistic regression model for all features. "
   ]
  },
  {
   "cell_type": "code",
   "execution_count": 47,
   "metadata": {},
   "outputs": [],
   "source": [
    "from sklearn.linear_model import LogisticRegression\n",
    "\n",
    "simple_norm_model = LogisticRegression(solver='liblinear', random_state=42)\n",
    "simple_norm_model.fit(X_train, y_train)\n",
    "simple_yhat = simple_norm_model.predict_proba(X_test)[:, 1]\n",
    "\n",
    "simple_nonorm_model = LogisticRegression(solver='liblinear', random_state=42)\n",
    "simple_nonorm_model.fit(X_train, y_train)\n",
    "simple_yhat = simple_norm_model.predict_proba(X_test)[:, 1]"
   ]
  },
  {
   "cell_type": "markdown",
   "metadata": {},
   "source": [
    "### 5. Evaluate the models with cross-validation"
   ]
  },
  {
   "cell_type": "markdown",
   "metadata": {},
   "source": []
  },
  {
   "cell_type": "code",
   "execution_count": 48,
   "metadata": {},
   "outputs": [
    {
     "name": "stdout",
     "output_type": "stream",
     "text": [
      "0.8664965986394558\n"
     ]
    }
   ],
   "source": [
    "import numpy as np\n",
    "from sklearn.model_selection import cross_val_score\n",
    "\n",
    "acc_norm = np.mean(cross_val_score(simple_norm_model, X_train, y_train, scoring='accuracy', cv=3))\n",
    "print(acc_norm)"
   ]
  },
  {
   "cell_type": "markdown",
   "metadata": {},
   "source": [
    "### 6. LASSO regularized logistic regression\n",
    "\n",
    "Regularization is a method for avoiding overfitting by penalizing the complexity of the model in the training process. LASSO regularization in particular penalizes the sum of the absolute values of the parameters. It has the property that it will tend to \"zero out\" coefficients as the penalty increases. This gives it an additional role as a feature selection technique. "
   ]
  },
  {
   "cell_type": "code",
   "execution_count": 49,
   "metadata": {},
   "outputs": [],
   "source": [
    "from sklearn.pipeline import Pipeline\n",
    "\n",
    "\n",
    "C = np.logspace(-2,1,20)\n",
    "acc = np.empty(40)\n",
    "models = list()\n",
    "\n",
    "for c in range(len(C)):   \n",
    "    \n",
    "    model = Pipeline([('scaler', StandardScaler()), \n",
    "                 ('logreg', LogisticRegression(C=C[c],\n",
    "                   penalty='l1',\n",
    "                   solver='liblinear',\n",
    "                   random_state=42))])\n",
    "    model.fit(X_train,y_train)\n",
    "    \n",
    "    models.append(model)\n",
    "\n",
    "    # Validation accuracy\n",
    "    acc[c] = cross_val_score(model, X_train, y_train, cv=3, scoring='accuracy').mean()"
   ]
  },
  {
   "cell_type": "markdown",
   "metadata": {},
   "source": [
    "### 7. Choose the best model\n",
    "\n",
    "Next we select the model with the best validation accuracy. Outputs the C choosen for Lasso and its accuracy. Also shows which coefficients are zeroed out by Lasso Regulaization."
   ]
  },
  {
   "cell_type": "code",
   "execution_count": 50,
   "metadata": {},
   "outputs": [
    {
     "name": "stdout",
     "output_type": "stream",
     "text": [
      "best Lasso model index: 9\n",
      "best Lasso model accuracy: 0.8673469387755102\n",
      "Regularized weights: [-0.20464268 -0.07886658  0.25871296  0.02668742 -0.33167318  0.\n",
      " -0.29778319 -0.0735796  -0.35741591  0.          0.04171907  0.40216277\n",
      " -0.03771129  0.         -0.10976051 -0.15667816 -0.30719847 -0.15099005\n",
      " -0.19916796  0.25049461 -0.43713852  0.40733645 -0.25148231  0.47352194\n",
      "  0.20384311 -0.35293731  0.          0.          0.05656251  0.\n",
      "  0.          0.22024027  0.15451363  0.08059917  0.44711811  0.\n",
      "  0.         -0.14596389  0.10046552  0.          0.22664666  0.06892916\n",
      "  0.45946556  0.85602333]\n"
     ]
    }
   ],
   "source": [
    "# Find best model\n",
    "cstar = np.argmax(acc)\n",
    "print(f\"best Lasso model index: {cstar}\")\n",
    "# Find best model's accuracy\n",
    "acc_star = acc[cstar]\n",
    "print(f\"best Lasso model accuracy: {acc_star}\")\n",
    "\n",
    "theta = np.vstack([model.named_steps['logreg'].coef_[0,:] for model in models])\n",
    "theta_star = theta[cstar,:]\n",
    "print(f\"Regularized weights: {theta_star}\")\n",
    "lasso_model = models[cstar]"
   ]
  },
  {
   "cell_type": "markdown",
   "metadata": {},
   "source": [
    "### 8. Evaluate all model with test data\n",
    "\n",
    "Use the test dataset to evaluate the accuracy of the selected LASSO model."
   ]
  },
  {
   "cell_type": "code",
   "execution_count": 51,
   "metadata": {},
   "outputs": [
    {
     "name": "stdout",
     "output_type": "stream",
     "text": [
      "Accuracy for Regularized Model: 0.891156462585034\n",
      "Unregularized Accuracy: 0.8843537414965986\n"
     ]
    }
   ],
   "source": [
    "from sklearn.metrics import roc_auc_score, accuracy_score, precision_score, recall_score, f1_score\n",
    "\n",
    "#Accuracy for best Lasso model\n",
    "yhat = lasso_model.predict(X_test)\n",
    "lasso_test = accuracy_score(y_test, yhat)\n",
    "print(f\"Accuracy for Regularized Model: {lasso_test}\")\n",
    "\n",
    "#Accyracy for Unregularized model\n",
    "simple_ypred = (simple_yhat > 0.5).astype(int)\n",
    "accuracy = accuracy_score(y_test, simple_ypred)\n",
    "print(f\"Unregularized Accuracy: {accuracy}\")\n"
   ]
  },
  {
   "cell_type": "markdown",
   "metadata": {},
   "source": [
    "### 9. Compare Results\n"
   ]
  },
  {
   "cell_type": "code",
   "execution_count": 53,
   "metadata": {},
   "outputs": [
    {
     "data": {
      "image/png": "[encoded data removed]",
      "text/plain": [
       "<Figure size 640x480 with 1 Axes>"
      ]
     },
     "metadata": {},
     "output_type": "display_data"
    },
    {
     "name": "stdout",
     "output_type": "stream",
     "text": [
      "AUC-ROC Score: 0.796480643539467\n",
      "Classification Report:\n",
      "              precision    recall  f1-score   support\n",
      "\n",
      "       False       0.91      0.97      0.94       255\n",
      "        True       0.67      0.36      0.47        39\n",
      "\n",
      "    accuracy                           0.89       294\n",
      "   macro avg       0.79      0.67      0.70       294\n",
      "weighted avg       0.88      0.89      0.88       294\n",
      "\n"
     ]
    }
   ],
   "source": [
    "from matplotlib import pyplot as plt\n",
    "from sklearn.metrics import classification_report, roc_curve\n",
    "\n",
    "\n",
    "fpr, tpr, th = roc_curve(y_test, simple_yhat) \n",
    "auc = roc_auc_score(y_test, simple_yhat)\n",
    "\n",
    "lw = 2\n",
    "plt.plot(fpr, tpr, color='blue', lw=lw, label='AUC = %0.2f' % auc)\n",
    "plt.plot([0, 1], [0, 1], color='red', lw=lw, linestyle='--') \n",
    "plt.xlabel('FPR')\n",
    "plt.ylabel('TPR')\n",
    "plt.title('ROC Curve')\n",
    "plt.legend(loc=\"lower right\")\n",
    "plt.show()\n",
    "\n",
    "print(\"AUC-ROC Score:\", auc)\n",
    "\n",
    "#Classification Report\n",
    "print(\"Classification Report:\")\n",
    "print(classification_report(y_test, yhat))"
   ]
  }
 ],
 "metadata": {
  "kernelspec": {
   "display_name": "Python 3",
   "language": "python",
   "name": "python3"
  },
  "language_info": {
   "codemirror_mode": {
    "name": "ipython",
    "version": 3
   },
   "file_extension": ".py",
   "mimetype": "text/x-python",
   "name": "python",
   "nbconvert_exporter": "python",
   "pygments_lexer": "ipython3",
   "version": "3.9.6"
  }
 },
 "nbformat": 4,
 "nbformat_minor": 2
}
